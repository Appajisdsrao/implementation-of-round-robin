{
  "nbformat": 4,
  "nbformat_minor": 0,
  "metadata": {
    "colab": {
      "provenance": [],
      "authorship_tag": "ABX9TyN0aeU+NmBdCBuyYXq13oJk",
      "include_colab_link": true
    },
    "kernelspec": {
      "name": "python3",
      "display_name": "Python 3"
    },
    "language_info": {
      "name": "python"
    }
  },
  "cells": [
    {
      "cell_type": "markdown",
      "metadata": {
        "id": "view-in-github",
        "colab_type": "text"
      },
      "source": [
        "<a href=\"https://colab.research.google.com/github/Appajisdsrao/implementation-of-round-robin/blob/main/IMPLEMENTATION_OF_ROUND_ROBIN_FOR_OS.ipynb\" target=\"_parent\"><img src=\"https://colab.research.google.com/assets/colab-badge.svg\" alt=\"Open In Colab\"/></a>"
      ]
    },
    {
      "cell_type": "code",
      "execution_count": 9,
      "metadata": {
        "colab": {
          "base_uri": "https://localhost:8080/"
        },
        "id": "LtdeT_RC0Nab",
        "outputId": "317d637b-a126-41f4-87aa-c5cb4a0af8d9"
      },
      "outputs": [
        {
          "output_type": "stream",
          "name": "stdout",
          "text": [
            "Writing round_robin.cpp\n"
          ]
        }
      ],
      "source": [
        "%%writefile round_robin.cpp\n",
        "#include <iostream>\n",
        "#include <vector>\n",
        "#include <string>\n",
        "#include <algorithm>\n",
        "\n",
        "using namespace std;\n",
        "\n",
        "#define MAX_QUERIES 120\n",
        "\n",
        "struct Query {\n",
        "    string queryID;\n",
        "    int arrivalTime;\n",
        "    int burstTime;\n",
        "};\n",
        "\n",
        "void input_queries(vector<Query>& faculty, vector<Query>& student, int& timeQuantum) {\n",
        "    int totalQueries;\n",
        "    cout << \"Enter total number of Queries: \";\n",
        "    cin >> totalQueries;\n",
        "\n",
        "    while (totalQueries <= 0 || totalQueries > MAX_QUERIES) {\n",
        "        cout << \"\\nQueries cannot be <0 or >120! Enter again: \";\n",
        "        cin >> totalQueries;\n",
        "    }\n",
        "\n",
        "    cout << \"Enter Time Quantum for each query: \";\n",
        "    cin >> timeQuantum;\n",
        "\n",
        "    for (int i = 0; i < totalQueries; i++) {\n",
        "        int queryType;\n",
        "        cout << \"Enter query \" << i + 1 << \" details:\\n\";\n",
        "        cout << \"Type of Query (1 for Faculty, 2 for Student): \";\n",
        "        cin >> queryType;\n",
        "\n",
        "        if (queryType == 1) {\n",
        "            Query q;\n",
        "            cout << \"Enter Query ID: \";\n",
        "            cin >> q.queryID;\n",
        "            cout << \"Enter Query Arrival Time: \";\n",
        "            cin >> q.arrivalTime;\n",
        "            cout << \"Enter Query Burst Time: \";\n",
        "            cin >> q.burstTime;\n",
        "            faculty.push_back(q);\n",
        "        } else if (queryType == 2) {\n",
        "            Query q;\n",
        "            cout << \"Enter Query ID: \";\n",
        "            cin >> q.queryID;\n",
        "            cout << \"Enter Query Arrival Time: \";\n",
        "            cin >> q.arrivalTime;\n",
        "            cout << \"Enter Query Burst Time: \";\n",
        "            cin >> q.burstTime;\n",
        "            student.push_back(q);\n",
        "        } else {\n",
        "            cout << \"Invalid Input. Please try again.\\n\";\n",
        "            i--;\n",
        "        }\n",
        "    }\n",
        "}\n",
        "\n",
        "void round_robin(vector<Query>& faculty, vector<Query>& student, int timeQuantum) {\n",
        "    vector<Query> allQueries;\n",
        "    allQueries.insert(allQueries.end(), faculty.begin(), faculty.end());\n",
        "    allQueries.insert(allQueries.end(), student.begin(), student.end());\n",
        "\n",
        "    sort(allQueries.begin(), allQueries.end(), [](const Query& a, const Query& b) {\n",
        "        return a.arrivalTime < b.arrivalTime;\n",
        "    });\n",
        "\n",
        "    int total = allQueries[0].arrivalTime;\n",
        "    int waitTime = 0;\n",
        "    int turnAroundTime = 0;\n",
        "    int i = 0;\n",
        "    int totalQueries = allQueries.size();\n",
        "\n",
        "    cout << \"Starting Round Robin scheduling...\\n\";\n",
        "    cout << \"Query ID\\tArrival Time\\tBurst Time\\tWaiting Time\\tTurnaround Time\\tCompletion Time\\n\";\n",
        "\n",
        "    while (i < totalQueries) {\n",
        "        Query& currentQuery = allQueries[i];\n",
        "        int remainingTime = currentQuery.burstTime;\n",
        "\n",
        "        if (remainingTime <= timeQuantum && remainingTime > 0) {\n",
        "            total += remainingTime;\n",
        "            remainingTime = 0;\n",
        "        } else if (remainingTime > 0) {\n",
        "            currentQuery.burstTime -= timeQuantum;\n",
        "            total += timeQuantum;\n",
        "        }\n",
        "\n",
        "        if (remainingTime == 0) {\n",
        "            int waitingTime = total - currentQuery.arrivalTime - currentQuery.burstTime;\n",
        "            int turnaroundTime = total - currentQuery.arrivalTime;\n",
        "\n",
        "            cout << currentQuery.queryID << \"\\t\\t\" << currentQuery.arrivalTime << \"\\t\\t\"\n",
        "                 << currentQuery.burstTime << \"\\t\\t\" << waitingTime << \"\\t\\t\"\n",
        "                 << turnaroundTime << \"\\t\\t\" << total << \"\\n\";\n",
        "            waitTime += waitingTime;\n",
        "            turnAroundTime += turnaroundTime;\n",
        "        }\n",
        "\n",
        "        if (i == totalQueries - 1) {\n",
        "            i = 0;\n",
        "        } else if (allQueries[i + 1].arrivalTime <= total) {\n",
        "            i++;\n",
        "        } else {\n",
        "            i = 0;\n",
        "        }\n",
        "    }\n",
        "\n",
        "    float avgWaitTime = float(waitTime) / totalQueries;\n",
        "    float avgTATime = float(turnAroundTime) / totalQueries;\n",
        "\n",
        "    cout << \"\\nSummary of Execution: \\n\";\n",
        "    cout << \"Average Turnaround Time: \" << avgTATime << \" minutes\\n\";\n",
        "    cout << \"Average Waiting Time: \" << avgWaitTime << \" minutes\\n\";\n",
        "}\n",
        "\n",
        "int main() {\n",
        "    vector<Query> faculty, student;\n",
        "    int timeQuantum;\n",
        "\n",
        "    input_queries(faculty, student, timeQuantum);\n",
        "    round_robin(faculty, student, timeQuantum);\n",
        "\n",
        "    return 0;\n",
        "}\n"
      ]
    },
    {
      "cell_type": "code",
      "source": [
        "!g++ round_robin.cpp -o round_robin\n"
      ],
      "metadata": {
        "id": "G_PS79RO6t6D"
      },
      "execution_count": 10,
      "outputs": []
    },
    {
      "cell_type": "code",
      "source": [
        "!./round_robin\n"
      ],
      "metadata": {
        "colab": {
          "base_uri": "https://localhost:8080/"
        },
        "id": "2iPe4Qci6y_u",
        "outputId": "fee39ed9-d5b0-4d7e-c7d6-e83911d6812a"
      },
      "execution_count": null,
      "outputs": [
        {
          "output_type": "stream",
          "name": "stdout",
          "text": [
            "Enter total number of Queries: "
          ]
        }
      ]
    }
  ]
}